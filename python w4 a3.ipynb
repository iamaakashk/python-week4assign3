{
 "cells": [
  {
   "cell_type": "code",
   "execution_count": 3,
   "id": "d1585d1a-7377-44ea-b75e-23d846846976",
   "metadata": {},
   "outputs": [],
   "source": [
    "#q1"
   ]
  },
  {
   "cell_type": "code",
   "execution_count": 4,
   "id": "5aaa0bd1-8ec8-42f9-8d8a-b70cb46750d9",
   "metadata": {},
   "outputs": [
    {
     "data": {
      "text/plain": [
       "'abstract creates the skeliton or the outline for the classes so we can do as directed in that abstract'"
      ]
     },
     "execution_count": 4,
     "metadata": {},
     "output_type": "execute_result"
    }
   ],
   "source": [
    "\"\"\"abstract creates the skeliton or the outline for the classes so we can do as directed in that abstract\"\"\""
   ]
  },
  {
   "cell_type": "code",
   "execution_count": 5,
   "id": "e8d14f8e-b616-4e0d-a898-1451eb98c057",
   "metadata": {},
   "outputs": [],
   "source": [
    "import abc\n",
    "class pwskills:\n",
    "    \n",
    "    @abc.abstractmethod\n",
    "    def students_detials(self):\n",
    "        pass\n",
    "    \n",
    "    @abc.abstractmethod\n",
    "    def student_assignemnt(self):\n",
    "        pass\n",
    "    \n",
    "    @abc.abstractmethod\n",
    "    def student_marks(self):\n",
    "        pass"
   ]
  },
  {
   "cell_type": "code",
   "execution_count": 6,
   "id": "2e0cd4b9-516c-43dd-9933-430991fe5207",
   "metadata": {},
   "outputs": [],
   "source": [
    "class student_detils(pwskills):\n",
    "    \n",
    "    def students_detials(self):\n",
    "        return \"this is a meth for taking students details\"\n",
    "    \n",
    "    def student_assignemnt(self):\n",
    "        return \"this is a meth for assing details for a perticualt student\""
   ]
  },
  {
   "cell_type": "code",
   "execution_count": 7,
   "id": "ff0a3454-1a6c-4001-b913-1c51f68dcc75",
   "metadata": {},
   "outputs": [],
   "source": [
    "class data_science_maters(pwskills):\n",
    "    \n",
    "    def students_detials(self):\n",
    "        return \"this will return a student details for data science masters \"\n",
    "    \n",
    "    def student_assignemnt(self):\n",
    "        return \"this will give you a studnt assignment detaild for data science masters \""
   ]
  },
  {
   "cell_type": "code",
   "execution_count": 8,
   "id": "ee036f4e-8b30-4a35-9aa2-9e2427984d00",
   "metadata": {},
   "outputs": [
    {
     "data": {
      "text/plain": [
       "'this will return a student details for data science masters '"
      ]
     },
     "execution_count": 8,
     "metadata": {},
     "output_type": "execute_result"
    }
   ],
   "source": [
    "dsm = data_science_maters()\n",
    "dsm.students_detials()"
   ]
  },
  {
   "cell_type": "code",
   "execution_count": 9,
   "id": "b60c910f-14a2-445f-b666-33a0676acb31",
   "metadata": {},
   "outputs": [
    {
     "data": {
      "text/plain": [
       "'this is a meth for taking students details'"
      ]
     },
     "execution_count": 9,
     "metadata": {},
     "output_type": "execute_result"
    }
   ],
   "source": [
    "sd= student_detils()\n",
    "sd.students_detials()"
   ]
  },
  {
   "cell_type": "code",
   "execution_count": 10,
   "id": "e58266d4-d5eb-4e8e-b10a-27189d9a999c",
   "metadata": {},
   "outputs": [],
   "source": [
    "#Q2"
   ]
  },
  {
   "cell_type": "code",
   "execution_count": 11,
   "id": "d2bb3dfe-838d-4335-b640-814aeddf18c4",
   "metadata": {},
   "outputs": [
    {
     "data": {
      "text/plain": [
       "'Abstraction is a way of representing some specific data.\\nEncapsulation is a way of hiding the complexity of something and exposing only the parts you wish to expose'"
      ]
     },
     "execution_count": 11,
     "metadata": {},
     "output_type": "execute_result"
    }
   ],
   "source": [
    "\"\"\"Abstraction is a way of representing some specific data.\n",
    "Encapsulation is a way of hiding the complexity of something and exposing only the parts you wish to expose\"\"\""
   ]
  },
  {
   "cell_type": "code",
   "execution_count": 12,
   "id": "b17d98b2-1390-4b4c-83fa-aecf64a83416",
   "metadata": {},
   "outputs": [],
   "source": [
    "#incapsulation hides the variable to avoid the modifications that can be done by external or anybody\n",
    "#as we seen above the value got change when i call t.a "
   ]
  },
  {
   "cell_type": "code",
   "execution_count": 13,
   "id": "5fd41f86-5a8e-4fc4-b0a4-2fa59923f0b9",
   "metadata": {},
   "outputs": [],
   "source": [
    "# __ hides the data from being modified\n"
   ]
  },
  {
   "cell_type": "code",
   "execution_count": 14,
   "id": "c5112d04-4c61-4545-b525-7bafc45d5f3e",
   "metadata": {},
   "outputs": [],
   "source": [
    "class car :\n",
    "    def __init__(self , year , make , model, speed ) : \n",
    "        \n",
    "        self.__year = year \n",
    "        self.__make = make\n",
    "        self.__model = model\n",
    "        self.__speed = 0\n",
    "        \n",
    "    def set_speed(self,speed) : \n",
    "        self.__speed = 0 if speed < 0 else speed\n",
    "        \n",
    "    def get_speed(self)  : \n",
    "        return self.__speed"
   ]
  },
  {
   "cell_type": "code",
   "execution_count": 16,
   "id": "74b71e58-79b9-4530-a161-1d03b9c0ff31",
   "metadata": {},
   "outputs": [],
   "source": [
    "model1=car(2015,\"bmw\",\"xs4\",190)"
   ]
  },
  {
   "cell_type": "code",
   "execution_count": 19,
   "id": "b74a860d-6a03-4e13-853d-3007da8d5a72",
   "metadata": {},
   "outputs": [
    {
     "data": {
      "text/plain": [
       "0"
      ]
     },
     "execution_count": 19,
     "metadata": {},
     "output_type": "execute_result"
    }
   ],
   "source": [
    "model1.get_speed()  # here iam only able to get or set speed  everything else is protected "
   ]
  },
  {
   "cell_type": "code",
   "execution_count": 20,
   "id": "5e50452f-2e08-4d76-a965-2598b0d9a1f6",
   "metadata": {},
   "outputs": [],
   "source": [
    "#Q3 "
   ]
  },
  {
   "cell_type": "code",
   "execution_count": 21,
   "id": "718249e4-eff2-4221-9e35-f43db5eb215c",
   "metadata": {},
   "outputs": [
    {
     "data": {
      "text/plain": [
       "\"The 'abc' module in the Python library provides the infrastructure for defining custom abstract base classes\""
      ]
     },
     "execution_count": 21,
     "metadata": {},
     "output_type": "execute_result"
    }
   ],
   "source": [
    "\"\"\"The 'abc' module in the Python library provides the infrastructure for defining custom abstract base classes\"\"\""
   ]
  },
  {
   "cell_type": "code",
   "execution_count": 22,
   "id": "04ca080d-dd7f-4ef4-acb5-c4043970c9bb",
   "metadata": {},
   "outputs": [
    {
     "data": {
      "text/plain": [
       "'more explained in q1'"
      ]
     },
     "execution_count": 22,
     "metadata": {},
     "output_type": "execute_result"
    }
   ],
   "source": [
    "\"\"\"more explained in q1\"\"\""
   ]
  },
  {
   "cell_type": "code",
   "execution_count": 23,
   "id": "589bfa8f-04f6-4400-95b7-36b0ba9011cd",
   "metadata": {},
   "outputs": [],
   "source": [
    "#q4"
   ]
  },
  {
   "cell_type": "code",
   "execution_count": 25,
   "id": "4f72d974-9ee2-4479-a2c8-8ba10fea6497",
   "metadata": {},
   "outputs": [
    {
     "data": {
      "text/plain": [
       "'Data abstraction in Python can be achieved through the use of abstract classes and interfaces,\\njust like we have done in q1 '"
      ]
     },
     "execution_count": 25,
     "metadata": {},
     "output_type": "execute_result"
    }
   ],
   "source": [
    "\"\"\"Data abstraction in Python can be achieved through the use of abstract classes and interfaces,\n",
    "just like we have done in q1 \"\"\""
   ]
  },
  {
   "cell_type": "code",
   "execution_count": 26,
   "id": "d5b9ec76-8e1d-44ef-985c-9e41dd9db558",
   "metadata": {},
   "outputs": [],
   "source": [
    "#q5"
   ]
  },
  {
   "cell_type": "code",
   "execution_count": 27,
   "id": "30e3d61e-3ee5-410f-9a31-3eb648132003",
   "metadata": {},
   "outputs": [
    {
     "data": {
      "text/plain": [
       "'No, we cannot create an instance of an abstract class in Python. \\nAn abstract class is a blueprint for other classes, and it cannot be instantiated itself. \\nIf we try to instantiate an abstract class, we will get an error.'"
      ]
     },
     "execution_count": 27,
     "metadata": {},
     "output_type": "execute_result"
    }
   ],
   "source": [
    "\"\"\"No, we cannot create an instance of an abstract class in Python. \n",
    "An abstract class is a blueprint for other classes, and it cannot be instantiated itself. \n",
    "If we try to instantiate an abstract class, we will get an error.\"\"\""
   ]
  },
  {
   "cell_type": "code",
   "execution_count": null,
   "id": "de7c94f1-45c5-4a1c-a421-f3c15d518862",
   "metadata": {},
   "outputs": [],
   "source": []
  }
 ],
 "metadata": {
  "kernelspec": {
   "display_name": "Python 3 (ipykernel)",
   "language": "python",
   "name": "python3"
  },
  "language_info": {
   "codemirror_mode": {
    "name": "ipython",
    "version": 3
   },
   "file_extension": ".py",
   "mimetype": "text/x-python",
   "name": "python",
   "nbconvert_exporter": "python",
   "pygments_lexer": "ipython3",
   "version": "3.10.8"
  }
 },
 "nbformat": 4,
 "nbformat_minor": 5
}
